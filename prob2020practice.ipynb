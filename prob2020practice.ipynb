{
 "cells": [
  {
   "cell_type": "markdown",
   "metadata": {},
   "source": [
    "#### 2020 年政治大學資訊科學系「機率論」\n",
    "#### Python 練習\n",
    "##### 任課教師：劉昭麟\n",
    "##### 日期：2020年12月10日"
   ]
  },
  {
   "cell_type": "markdown",
   "metadata": {},
   "source": [
    "## Markov Chains 練習\n",
    "### 假設我們有以下的 transition matrix\n",
    "\n",
    "\\begin{equation*}\n",
    "t = \n",
    "\\begin{pmatrix}\n",
    "0.3 & 0.2 & 0.5 \\\\\n",
    "0.1 & 0.3 & 0.6 \\\\\n",
    "0.5 & 0.4 & 0.1 \n",
    "\\end{pmatrix}\n",
    "\\end{equation*}"
   ]
  },
  {
   "cell_type": "code",
   "execution_count": null,
   "metadata": {},
   "outputs": [],
   "source": [
    "### 以 numpy 的 array 來定義以上的矩陣\n",
    "#### 將這一個矩陣存放到 t 裡面\n",
    "#### 完成以下指令\n",
    "import numpy as np\n",
    "t = #完成定義 t 為上述矩陣\n",
    "print(t)"
   ]
  },
  {
   "cell_type": "markdown",
   "metadata": {},
   "source": [
    "執行以上的print指令之後，你應該看到以下這樣的輸出\n",
    "```\n",
    "[[0.3 0.2 0.5]\n",
    "[0.1 0.3 0.6]\n",
    "[0.5 0.4 0.1]]\n",
    "```"
   ]
  },
  {
   "cell_type": "markdown",
   "metadata": {},
   "source": [
    "我們可以利用 numpy 的 numpy.dot 指令來做矩陣運算，而不需要自己使用一般的迴圈\n",
    "```\n",
    "https://numpy.org/doc/stable/reference/generated/numpy.dot.html\n",
    "使用 numpy.dot 指令來計算 t 的平方\n",
    "把你的指令放在下面的 cell \n",
    "```\n",
    "\n",
    "計算 $\\begin{equation*}t^2\\end{equation*}$"
   ]
  },
  {
   "cell_type": "code",
   "execution_count": null,
   "metadata": {},
   "outputs": [],
   "source": [
    "t2 = # 你的指令\n",
    "print(t2)"
   ]
  },
  {
   "cell_type": "markdown",
   "metadata": {},
   "source": [
    "你應該看到如下的矩陣\n",
    "```\n",
    "[[0.36 0.32 0.32]\n",
    " [0.36 0.35 0.29]\n",
    " [0.24 0.26 0.5 ]]\n",
    "```"
   ]
  },
  {
   "cell_type": "markdown",
   "metadata": {},
   "source": [
    "```\n",
    "依此類推，計算 t 的五次方，將結果存到 t5\n",
    "執行以下指令\n",
    "```"
   ]
  },
  {
   "cell_type": "code",
   "execution_count": null,
   "metadata": {},
   "outputs": [],
   "source": [
    "t5 = # 你的指令\n",
    "print(t5)"
   ]
  },
  {
   "cell_type": "markdown",
   "metadata": {},
   "source": [
    "你應該看到以下的矩陣\n",
    "```\n",
    "[[0.31152 0.30464 0.38384]\n",
    " [0.30972 0.30365 0.38663]\n",
    " [0.32088 0.31022 0.3689 ]]\n",
    "```"
   ]
  },
  {
   "cell_type": "markdown",
   "metadata": {},
   "source": [
    "numpy.power 雖然可以計算次方，但是不能拿來計算矩陣的次方\n",
    "```\n",
    "https://numpy.org/doc/stable/reference/generated/numpy.power.html\n",
    "```"
   ]
  },
  {
   "cell_type": "code",
   "execution_count": null,
   "metadata": {},
   "outputs": [],
   "source": [
    "t5error = np.power(t,5)\n",
    "print(t5error)"
   ]
  },
  {
   "cell_type": "markdown",
   "metadata": {},
   "source": [
    "想想看，為什麼 np.power 所得的矩陣為什麼是下面這樣？\n",
    "```\n",
    "[[2.430e-03 3.200e-04 3.125e-02]\n",
    " [1.000e-05 2.430e-03 7.776e-02]\n",
    " [3.125e-02 1.024e-02 1.000e-05]]\n",
    "```"
   ]
  },
  {
   "cell_type": "markdown",
   "metadata": {},
   "source": [
    "其實你也可以直接定義 matrix\n",
    "```\n",
    "https://numpy.org/doc/stable/reference/generated/numpy.matrix.html\n",
    "```\n",
    "參看上述網頁，看看如何利用 numpy.matrix 來宣告以下矩陣\n",
    "\\begin{equation*}\n",
    "s = \n",
    "\\begin{pmatrix}\n",
    "0.3 & 0.2 & 0.5 \\\\\n",
    "0.1 & 0.3 & 0.6 \\\\\n",
    "0.5 & 0.4 & 0.1 \n",
    "\\end{pmatrix}\n",
    "\\end{equation*}"
   ]
  },
  {
   "cell_type": "code",
   "execution_count": null,
   "metadata": {},
   "outputs": [],
   "source": [
    "s = # 使用 np.matrix 來完成定義\n",
    "print(s)"
   ]
  },
  {
   "cell_type": "markdown",
   "metadata": {},
   "source": [
    "#### 你應該看到\n",
    "```\n",
    "[[0.3 0.2 0.5]\n",
    " [0.1 0.3 0.6]\n",
    " [0.5 0.4 0.1]]\n",
    "```"
   ]
  },
  {
   "cell_type": "markdown",
   "metadata": {},
   "source": [
    "想想看，如何計算 s 的平方\n",
    "完成以下指令，讓 s2 儲存 s 的平方"
   ]
  },
  {
   "cell_type": "code",
   "execution_count": null,
   "metadata": {},
   "outputs": [],
   "source": [
    "s2 = # 完成指令\n",
    "print(s2)"
   ]
  },
  {
   "cell_type": "markdown",
   "metadata": {},
   "source": [
    "你應該看到\n",
    "```\n",
    "[[0.36 0.32 0.32]\n",
    " [0.36 0.35 0.29]\n",
    " [0.24 0.26 0.5 ]]\n",
    "```"
   ]
  },
  {
   "cell_type": "markdown",
   "metadata": {},
   "source": [
    "```\n",
    "不管是使用 numpy.array 或者是 numpy.matrix，\n",
    "雖然可以計算矩陣的次方，但是在計算矩陣的高次方時都不方便\n",
    "比較好的工具在 numpy.linalg\n",
    "這是 numpy 提供線性代數工具的套件 (linear algegra --> linalg)\n",
    "```\n",
    "###\n",
    "```\n",
    "查閱以下網址\n",
    "https://numpy.org/doc/stable/reference/generated/numpy.linalg.matrix_power.html\n",
    "看看如何直接指定所要計算的次方\n",
    "```"
   ]
  },
  {
   "cell_type": "code",
   "execution_count": null,
   "metadata": {},
   "outputs": [],
   "source": [
    "# 利用 numpy.matrix_power 來計算前述 t 矩陣的 10 次方\n",
    "from numpy.linalg import matrix_power\n",
    "t10 = matrix_power() # 完成這一個指令的參數\n",
    "print(t10)"
   ]
  },
  {
   "cell_type": "markdown",
   "metadata": {},
   "source": [
    "```\n",
    "你應該看到以下矩陣\n",
    "[[0.31456439 0.30648023 0.37895538]\n",
    " [0.31459229 0.30649678 0.37891093]\n",
    " [0.31441451 0.30639134 0.37919415]]\n",
    "```"
   ]
  },
  {
   "cell_type": "code",
   "execution_count": null,
   "metadata": {},
   "outputs": [],
   "source": [
    "# 利用 numpy.matrix_power 來計算前述 s 矩陣的 10 次方\n",
    "from numpy.linalg import matrix_power\n",
    "s10 = #完成指令\n",
    "print(s10)"
   ]
  },
  {
   "cell_type": "markdown",
   "metadata": {},
   "source": [
    "```\n",
    "你應該看到以下矩陣\n",
    "[[0.31456439 0.30648023 0.37895538]\n",
    " [0.31459229 0.30649678 0.37891093]\n",
    " [0.31441451 0.30639134 0.37919415]]\n",
    "```"
   ]
  },
  {
   "cell_type": "markdown",
   "metadata": {},
   "source": [
    "以下是一般用來表示矩陣的寫法。在現在 Markov Chains 的問題中，$m$ 跟 $n$ 大都是相等。\n",
    "先前我們上課講過，在 $T$ 矩陣的 $x$ 次方中，$t_{i,j}$ 這一個數值可以用來記錄一個人走$x$步，從$i$走到$j$的機率。這是一個條件機率的應用。\n",
    "\\begin{equation*}\n",
    "{T^x}_{m,n} = \n",
    "\\begin{pmatrix}\n",
    "t_{1,1} & t_{1,2} & \\cdots & t_{1,n} \\\\\n",
    "t_{2,1} & t_{2,2} & \\cdots & t_{2,n} \\\\\n",
    "\\vdots  & \\vdots  & \\ddots & \\vdots  \\\\\n",
    "t_{m,1} & t_{m,2} & \\cdots & t_{m,n} \n",
    "\\end{pmatrix}\n",
    "\\end{equation*}"
   ]
  },
  {
   "cell_type": "markdown",
   "metadata": {},
   "source": [
    "綜合以上經驗，計算以下地圖中，如果從B出發，走15步之後，到達A、B、D的機率分別是多少？\n"
   ]
  },
  {
   "attachments": {
    "markov.chains.300.jpg": {
     "image/jpeg": "[encoded data removed]"
    }
   },
   "cell_type": "markdown",
   "metadata": {},
   "source": [
    "![markov.chains.300.jpg](attachment:markov.chains.300.jpg)"
   ]
  },
  {
   "cell_type": "code",
   "execution_count": null,
   "metadata": {},
   "outputs": [],
   "source": [
    "#定義一個 x 來儲存對應上述地圖的 transition matrix\n",
    "# 印出這一個矩陣\n",
    "x = # 完成指令\n",
    "print(x)"
   ]
  },
  {
   "cell_type": "code",
   "execution_count": null,
   "metadata": {},
   "outputs": [],
   "source": [
    "#利用前述講過的指令找出從 B出發，走15步之後，到達A、B、D的機率\n",
    "# 自行完成這一部分的指令，計算 x 的次方\n",
    "# 列印 x 第15次方的矩陣\n",
    "# 完成指令"
   ]
  },
  {
   "cell_type": "markdown",
   "metadata": {},
   "source": [
    "```\n",
    "你應該看到\n",
    "[[0.21382919 0.20432625 0.18817851 0.22372202 0.16994403]\n",
    " [0.21187267 0.20368635 0.18932806 0.2244953  0.17061763]\n",
    " [0.21174241 0.20203145 0.18892493 0.22591031 0.1713909 ]\n",
    " [0.21272675 0.20229104 0.18693458 0.22550718 0.17254045]\n",
    " [0.21410007 0.20295293 0.18719417 0.22385228 0.17190056]]\n",
    "```"
   ]
  },
  {
   "cell_type": "markdown",
   "metadata": {},
   "source": [
    "比較一下 x 的第 100 次方跟第 101 次方有沒有顯著的不同？"
   ]
  },
  {
   "cell_type": "code",
   "execution_count": null,
   "metadata": {},
   "outputs": [],
   "source": [
    "#印出 x 的第100次方\n",
    "#完成指令"
   ]
  },
  {
   "cell_type": "markdown",
   "metadata": {},
   "source": [
    "以下是 x 的第 100 次方\n",
    "```\n",
    "[[0.212838   0.20307209 0.18810424 0.22471414 0.17127153]\n",
    " [0.212838   0.20307209 0.18810424 0.22471414 0.17127153]\n",
    " [0.212838   0.20307209 0.18810424 0.22471414 0.17127153]\n",
    " [0.212838   0.20307209 0.18810424 0.22471414 0.17127153]\n",
    " [0.212838   0.20307209 0.18810424 0.22471414 0.17127153]]\n",
    "```"
   ]
  },
  {
   "cell_type": "code",
   "execution_count": null,
   "metadata": {},
   "outputs": [],
   "source": [
    "#印出 x 的第101次方\n",
    "#完成指令"
   ]
  },
  {
   "cell_type": "markdown",
   "metadata": {},
   "source": [
    "你有沒有發現 x 的第 100 次方的數值很特別？"
   ]
  }
 ],
 "metadata": {
  "kernelspec": {
   "display_name": "Python 3",
   "language": "python",
   "name": "python3"
  },
  "language_info": {
   "codemirror_mode": {
    "name": "ipython",
    "version": 3
   },
   "file_extension": ".py",
   "mimetype": "text/x-python",
   "name": "python",
   "nbconvert_exporter": "python",
   "pygments_lexer": "ipython3",
   "version": "3.7.4"
  }
 },
 "nbformat": 4,
 "nbformat_minor": 4
}
